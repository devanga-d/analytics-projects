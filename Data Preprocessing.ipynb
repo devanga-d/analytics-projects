{
 "cells": [
  {
   "cell_type": "markdown",
   "id": "34c32791-c414-4634-9972-9e74b2e5e854",
   "metadata": {},
   "source": [
    "# Task 1: Data Preparation\n"
   ]
  },
  {
   "cell_type": "code",
   "execution_count": 586,
   "id": "020e07cf-3e25-456d-a5ef-98c82e7f1e16",
   "metadata": {},
   "outputs": [
    {
     "data": {
      "text/plain": [
       "ISO3                         90\n",
       "Countries and areas          90\n",
       "Region                       90\n",
       "Sub-region                   90\n",
       "Income Group                 90\n",
       "Total                        90\n",
       "Residence (Rural)            85\n",
       "Residence (Urban)            86\n",
       "Wealth quintile (Poorest)    83\n",
       "Wealth quintile (Richest)    83\n",
       "Time period                  90\n",
       "dtype: int64"
      ]
     },
     "execution_count": 586,
     "metadata": {},
     "output_type": "execute_result"
    }
   ],
   "source": [
    "#Loading and checking the characteristics of the dataset and in this analysis numpy and pandas libraries were loaded\n",
    "import numpy as np\n",
    "import pandas as pd\n",
    "A1data = pd.read_csv('A1data.csv')\n",
    "A1data.head()\n",
    "A1data.count()"
   ]
  },
  {
   "cell_type": "markdown",
   "id": "e0db52a4-00e6-4ff7-abd7-e7fe00a1e58e",
   "metadata": {},
   "source": [
    "- After checking the dataset, various errors were discovered and corrected as follows"
   ]
  },
  {
   "cell_type": "markdown",
   "id": "20ff4ab3-d2fc-4efe-b089-9d781ed39a0b",
   "metadata": {},
   "source": [
    "### 1: Getting rid of the different annotations for lower middle income"
   ]
  },
  {
   "cell_type": "code",
   "execution_count": 587,
   "id": "010bef33-256a-41ec-b2fa-6c765725f651",
   "metadata": {},
   "outputs": [],
   "source": [
    "#Different annotations of lower middle income \n",
    "lower_middle_income_variations = [ \n",
    "    'Lower middle Income (LM)', \n",
    "    'Lower middle income (LMM)', \n",
    "    'Lower middle Income (LLM)'\n",
    "]\n",
    "# Replace all variations with the standard format \"Lower middle income (LM)\"\n",
    "A1data['Income Group'] = A1data['Income Group'].replace(lower_middle_income_variations, 'Lower middle income (LM)')"
   ]
  },
  {
   "cell_type": "markdown",
   "id": "532d3e83-81ae-475e-92d5-886636f63f00",
   "metadata": {},
   "source": [
    "### 2: Getting rid of any duplicate country names as the entire row is the same"
   ]
  },
  {
   "cell_type": "code",
   "execution_count": 588,
   "id": "332cb0fd-9b66-408b-aae4-96385acf9377",
   "metadata": {},
   "outputs": [
    {
     "data": {
      "text/plain": [
       "ISO3                         87\n",
       "Countries and areas          87\n",
       "Region                       87\n",
       "Sub-region                   87\n",
       "Income Group                 87\n",
       "Total                        87\n",
       "Residence (Rural)            82\n",
       "Residence (Urban)            83\n",
       "Wealth quintile (Poorest)    80\n",
       "Wealth quintile (Richest)    80\n",
       "Time period                  87\n",
       "dtype: int64"
      ]
     },
     "execution_count": 588,
     "metadata": {},
     "output_type": "execute_result"
    }
   ],
   "source": [
    "#Removing any duplicate IOS3 rows\n",
    "A1data = A1data.drop_duplicates(subset='ISO3')\n",
    "#The count was recalculated to ensure the code was correctly executed\n",
    "A1data.count()"
   ]
  },
  {
   "cell_type": "markdown",
   "id": "96f61dba-d85c-4134-81c7-e950cc0f52bb",
   "metadata": {},
   "source": [
    "### 4: Removing any unusual time periods"
   ]
  },
  {
   "cell_type": "code",
   "execution_count": 589,
   "id": "41ef081a-674c-4c9d-9f59-98418e7e5e1c",
   "metadata": {},
   "outputs": [
    {
     "name": "stdout",
     "output_type": "stream",
     "text": [
      "['2018-2019' '2015-2016' '2011-2012' '2019' '2012' '2017-2018' '2016'\n",
      " '2018' '2013' '2010' '2014' '2017' '2015' '2014-2015' '2016-2017' '2076'\n",
      " '3562' '2011' '2012-2099']\n"
     ]
    }
   ],
   "source": [
    "#First, a list of all the unique years were displayed to check for any abnormal years\n",
    "unique_time_periods = A1data['Time period'].unique()\n",
    "print(unique_time_periods)"
   ]
  },
  {
   "cell_type": "code",
   "execution_count": 590,
   "id": "742b502a-a212-4c1f-b483-16593602d8a1",
   "metadata": {},
   "outputs": [
    {
     "data": {
      "text/plain": [
       "ISO3                         84\n",
       "Countries and areas          84\n",
       "Region                       84\n",
       "Sub-region                   84\n",
       "Income Group                 84\n",
       "Total                        84\n",
       "Residence (Rural)            79\n",
       "Residence (Urban)            80\n",
       "Wealth quintile (Poorest)    77\n",
       "Wealth quintile (Richest)    77\n",
       "Time period                  84\n",
       "dtype: int64"
      ]
     },
     "execution_count": 590,
     "metadata": {},
     "output_type": "execute_result"
    }
   ],
   "source": [
    "# Thereafter, the following time periods were discovered abnormal and subsequently removed\n",
    "# For this code .isin was used instead of .drop as the direct row values were removed instead of removing via index labels. \n",
    "A1data = A1data[~A1data['Time period'].isin(['2076', '3562', '2012-2099'])]\n",
    "A1data.count()"
   ]
  },
  {
   "cell_type": "markdown",
   "id": "73917c46-8e83-478b-a889-5dcddac8afc3",
   "metadata": {},
   "source": [
    "### 5. Convert percentages to numeric for data exploration"
   ]
  },
  {
   "cell_type": "code",
   "execution_count": 591,
   "id": "7ab55845-cf2a-47f9-bc03-25fad2cf433e",
   "metadata": {},
   "outputs": [],
   "source": [
    "import pandas as pd\n",
    "\n",
    "# First, a list of columns that contains percentage values were created\n",
    "percentage_columns = ['Total', 'Residence (Rural)', 'Residence (Urban)', \n",
    "                      'Wealth quintile (Poorest)', 'Wealth quintile (Richest)']\n",
    "\n",
    "# Thereafter, the values were removed of the % sign and converted to numeric through dividing by 100 to get the actual numeric value\n",
    "for column in percentage_columns:\n",
    "    A1data[column] = A1data[column].str.rstrip('%').astype('float') / 100"
   ]
  },
  {
   "cell_type": "markdown",
   "id": "ca44d312-a953-4861-ba97-dfdb2109c572",
   "metadata": {},
   "source": [
    "### 6. Drop missing values\n",
    "- The values with missing values were dropped through dropna() in the pandas library.\n"
   ]
  },
  {
   "cell_type": "code",
   "execution_count": 592,
   "id": "1bd7bb52-ef79-49f2-a146-e490fa6411b9",
   "metadata": {},
   "outputs": [
    {
     "name": "stdout",
     "output_type": "stream",
     "text": [
      "(77, 11)\n"
     ]
    }
   ],
   "source": [
    "A1data = A1data.dropna()\n",
    "print(A1data.shape)"
   ]
  },
  {
   "cell_type": "markdown",
   "id": "ad25f10f-7bd5-49b5-934e-2e277ca78cb7",
   "metadata": {},
   "source": [
    "### 7: Correcting outliers exceeding 100%\n",
    "- It was identified that the richest wealth quintile had an outlier exceeding 100%, instead of removing it, the value was corrected to reflect 100%.\n",
    "- Given that the values were converted to numeric format, the corrected value should was set to 1."
   ]
  },
  {
   "cell_type": "code",
   "execution_count": 593,
   "id": "57ec4d56-c553-467d-b579-63a44862383e",
   "metadata": {},
   "outputs": [],
   "source": [
    "A1data['Wealth quintile (Richest)'] = np.where(A1data['Wealth quintile (Richest)'] > 1, 1, A1data['Wealth quintile (Richest)'])"
   ]
  },
  {
   "cell_type": "markdown",
   "id": "1c6669db-9a9f-4373-b7ea-539d518dcd37",
   "metadata": {},
   "source": [
    "- Finally, upon completing the cleaning process, the shape of the dataset was checked to ensure that the codes were excecuted successfully and the cleaned data was saved to the file below"
   ]
  },
  {
   "cell_type": "code",
   "execution_count": 606,
   "id": "98bf6423-deff-407a-b411-3d5451987d5b",
   "metadata": {},
   "outputs": [
    {
     "name": "stdout",
     "output_type": "stream",
     "text": [
      "(77, 11)\n"
     ]
    }
   ],
   "source": [
    "print(A1data.shape)\n",
    "A1data.to_csv('3992417-A1code.csv', index=False)"
   ]
  },
  {
   "cell_type": "markdown",
   "id": "bd5d17f3-756e-4898-9903-92a7f2452176",
   "metadata": {},
   "source": [
    "# Task 2: Data Exploration"
   ]
  },
  {
   "cell_type": "markdown",
   "id": "5bb50df3-ee99-4892-9cc2-5ffd9e4cad27",
   "metadata": {},
   "source": [
    "## Task 2.1on."
   ]
  },
  {
   "cell_type": "code",
   "execution_count": 595,
   "id": "1a963ea4-340f-4ef1-89fd-e9ceac7d4325",
   "metadata": {},
   "outputs": [
    {
     "data": {
      "image/png": "[encoded data removed]",
      "text/plain": [
       "<Figure size 1200x600 with 1 Axes>"
      ]
     },
     "metadata": {},
     "output_type": "display_data"
    },
    {
     "name": "stdout",
     "output_type": "stream",
     "text": [
      "Mean values for each income group:\n",
      "Region\n",
      "EAP     0.475\n",
      "ECA     0.810\n",
      "LAC     0.390\n",
      "MENA    0.410\n",
      "SA      0.340\n",
      "SSA     0.070\n",
      "Name: Total, dtype: float64\n"
     ]
    }
   ],
   "source": [
    "import pandas as pd\n",
    "import seaborn as sns\n",
    "import matplotlib.pyplot as plt\n",
    "\n",
    "# A boxplot of the 'Total' percentages grouped by 'Region'\n",
    "plt.figure(figsize=(12, 6))\n",
    "sns.boxplot(x='Region', y='Total', data=A1data)\n",
    "plt.title('Boxplot of Internet Connection at Home by Region')\n",
    "plt.xticks(rotation=45)\n",
    "plt.show()\n",
    "\n",
    "# Median of total for each region\n",
    "median_by_region = A1data.groupby('Region')['Total'].median()\n",
    "\n",
    "print(\"Mean values for each income group:\")\n",
    "print(median_by_region)"
   ]
  },
  {
   "cell_type": "markdown",
   "id": "1ffa465a-7a11-47bd-8e00-6ac87a25e7ad",
   "metadata": {},
   "source": [
    "## Task 2.2"
   ]
  },
  {
   "cell_type": "code",
   "execution_count": 596,
   "id": "7fe99bfd-54b4-45a4-af07-cdba836bfc84",
   "metadata": {},
   "outputs": [
    {
     "name": "stdout",
     "output_type": "stream",
     "text": [
      "Mean percentage for Wealth quintile (Poorest): 18.12\n",
      "Top 10 countries with the highest percentages for Wealth quintile (Poorest):\n",
      "   Countries and areas  Wealth quintile (Poorest)\n",
      "65             Somalia                      100.0\n",
      "59  Russian Federation                       88.0\n",
      "9               Brazil                       84.0\n",
      "77               Tonga                       83.0\n",
      "15               Chile                       75.0\n",
      "68           Sri Lanka                       71.0\n",
      "73     North Macedonia                       68.0\n",
      "63              Serbia                       65.0\n",
      "36               Japan                       64.0\n",
      "40          Kyrgyzstan                       56.0\n",
      "Mean percentage for Wealth quintile (Richest): 60.99\n",
      "Top 10 countries with the highest percentages for Wealth quintile (Richest):\n",
      "   Countries and areas  Wealth quintile (Richest)\n",
      "5             Barbados                      100.0\n",
      "10            Bulgaria                      100.0\n",
      "59  Russian Federation                      100.0\n",
      "63              Serbia                      100.0\n",
      "65             Somalia                      100.0\n",
      "73     North Macedonia                      100.0\n",
      "3              Armenia                       99.0\n",
      "15               Chile                       99.0\n",
      "17            Colombia                       99.0\n",
      "18          Costa Rica                       99.0\n"
     ]
    }
   ],
   "source": [
    "# Convert Wealth quintile values to percentages again\n",
    "A1data['Wealth quintile (Poorest)'] *= 100\n",
    "A1data['Wealth quintile (Richest)'] *= 100\n",
    "\n",
    "# Calculate the mean percentages\n",
    "mean_poorest = A1data['Wealth quintile (Poorest)'].mean()\n",
    "mean_richest = A1data['Wealth quintile (Richest)'].mean()\n",
    "\n",
    "# The top 10 countries with the highest percentages for each quintile\n",
    "top10_poorest = A1data.nlargest(10, 'Wealth quintile (Poorest)')\n",
    "top10_richest = A1data.nlargest(10, 'Wealth quintile (Richest)')\n",
    "\n",
    "#Mean percentage and the top 10 countries with the highest percentages for each quintile\n",
    "print(f\"Mean percentage for Wealth quintile (Poorest): {mean_poorest:.2f}\")\n",
    "print(\"Top 10 countries with the highest percentages for Wealth quintile (Poorest):\")\n",
    "print(top10_poorest[['Countries and areas', 'Wealth quintile (Poorest)']])\n",
    "\n",
    "print(f\"Mean percentage for Wealth quintile (Richest): {mean_richest:.2f}\")\n",
    "print(\"Top 10 countries with the highest percentages for Wealth quintile (Richest):\")\n",
    "print(top10_richest[['Countries and areas', 'Wealth quintile (Richest)']])\n"
   ]
  },
  {
   "cell_type": "markdown",
   "id": "23a8b416-9c03-4859-8446-f9d975fe506a",
   "metadata": {},
   "source": [
    "## Task 2.3"
   ]
  },
  {
   "cell_type": "code",
   "execution_count": 597,
   "id": "1df51673-df10-4d99-a94b-f949cbd73e6d",
   "metadata": {},
   "outputs": [
    {
     "data": {
      "text/html": [
       "<div>\n",
       "<style scoped>\n",
       "    .dataframe tbody tr th:only-of-type {\n",
       "        vertical-align: middle;\n",
       "    }\n",
       "\n",
       "    .dataframe tbody tr th {\n",
       "        vertical-align: top;\n",
       "    }\n",
       "\n",
       "    .dataframe thead th {\n",
       "        text-align: right;\n",
       "    }\n",
       "</style>\n",
       "<table border=\"1\" class=\"dataframe\">\n",
       "  <thead>\n",
       "    <tr style=\"text-align: right;\">\n",
       "      <th></th>\n",
       "      <th>ISO3</th>\n",
       "      <th>Countries and areas</th>\n",
       "      <th>Region</th>\n",
       "      <th>Sub-region</th>\n",
       "      <th>Income Group</th>\n",
       "      <th>Total</th>\n",
       "      <th>Residence (Rural)</th>\n",
       "      <th>Residence (Urban)</th>\n",
       "      <th>Wealth quintile (Poorest)</th>\n",
       "      <th>Wealth quintile (Richest)</th>\n",
       "      <th>Time period</th>\n",
       "    </tr>\n",
       "  </thead>\n",
       "  <tbody>\n",
       "    <tr>\n",
       "      <th>1</th>\n",
       "      <td>AGO</td>\n",
       "      <td>Angola</td>\n",
       "      <td>SSA</td>\n",
       "      <td>ESA</td>\n",
       "      <td>Lower middle income (LM)</td>\n",
       "      <td>0.19</td>\n",
       "      <td>0.02</td>\n",
       "      <td>0.27</td>\n",
       "      <td>0.0</td>\n",
       "      <td>62.0</td>\n",
       "      <td>2015-2016</td>\n",
       "    </tr>\n",
       "    <tr>\n",
       "      <th>4</th>\n",
       "      <td>BGD</td>\n",
       "      <td>Bangladesh</td>\n",
       "      <td>SA</td>\n",
       "      <td>SA</td>\n",
       "      <td>Lower middle income (LM)</td>\n",
       "      <td>0.34</td>\n",
       "      <td>0.31</td>\n",
       "      <td>0.48</td>\n",
       "      <td>8.0</td>\n",
       "      <td>73.0</td>\n",
       "      <td>2019</td>\n",
       "    </tr>\n",
       "    <tr>\n",
       "      <th>7</th>\n",
       "      <td>BOL</td>\n",
       "      <td>Bolivia (Plurinational State of)</td>\n",
       "      <td>LAC</td>\n",
       "      <td>LAC</td>\n",
       "      <td>Lower middle income (LM)</td>\n",
       "      <td>0.12</td>\n",
       "      <td>0.03</td>\n",
       "      <td>0.17</td>\n",
       "      <td>1.0</td>\n",
       "      <td>56.0</td>\n",
       "      <td>2016</td>\n",
       "    </tr>\n",
       "    <tr>\n",
       "      <th>12</th>\n",
       "      <td>CMR</td>\n",
       "      <td>Cameroon</td>\n",
       "      <td>SSA</td>\n",
       "      <td>WCA</td>\n",
       "      <td>Lower middle income (LM)</td>\n",
       "      <td>0.05</td>\n",
       "      <td>0.00</td>\n",
       "      <td>0.10</td>\n",
       "      <td>0.0</td>\n",
       "      <td>23.0</td>\n",
       "      <td>2014</td>\n",
       "    </tr>\n",
       "    <tr>\n",
       "      <th>22</th>\n",
       "      <td>DJI</td>\n",
       "      <td>Djibouti</td>\n",
       "      <td>SSA</td>\n",
       "      <td>ESA</td>\n",
       "      <td>Lower middle income (LM)</td>\n",
       "      <td>0.07</td>\n",
       "      <td>0.02</td>\n",
       "      <td>0.11</td>\n",
       "      <td>2.0</td>\n",
       "      <td>36.0</td>\n",
       "      <td>2012</td>\n",
       "    </tr>\n",
       "  </tbody>\n",
       "</table>\n",
       "</div>"
      ],
      "text/plain": [
       "   ISO3               Countries and areas Region Sub-region  \\\n",
       "1   AGO                            Angola    SSA        ESA   \n",
       "4   BGD                        Bangladesh     SA         SA   \n",
       "7   BOL  Bolivia (Plurinational State of)    LAC        LAC   \n",
       "12  CMR                          Cameroon    SSA        WCA   \n",
       "22  DJI                          Djibouti    SSA        ESA   \n",
       "\n",
       "                Income Group  Total  Residence (Rural)  Residence (Urban)  \\\n",
       "1   Lower middle income (LM)   0.19               0.02               0.27   \n",
       "4   Lower middle income (LM)   0.34               0.31               0.48   \n",
       "7   Lower middle income (LM)   0.12               0.03               0.17   \n",
       "12  Lower middle income (LM)   0.05               0.00               0.10   \n",
       "22  Lower middle income (LM)   0.07               0.02               0.11   \n",
       "\n",
       "    Wealth quintile (Poorest)  Wealth quintile (Richest) Time period  \n",
       "1                         0.0                       62.0   2015-2016  \n",
       "4                         8.0                       73.0        2019  \n",
       "7                         1.0                       56.0        2016  \n",
       "12                        0.0                       23.0        2014  \n",
       "22                        2.0                       36.0        2012  "
      ]
     },
     "execution_count": 597,
     "metadata": {},
     "output_type": "execute_result"
    }
   ],
   "source": [
    "# Create a subset for lower middle income group \n",
    "Lower_middle = A1data[A1data['Income Group'] == \"Lower middle income (LM)\"]\n",
    "Lower_middle.head()"
   ]
  },
  {
   "cell_type": "code",
   "execution_count": 598,
   "id": "43ebd641-18c8-49ca-b58c-58e9cd6c9575",
   "metadata": {},
   "outputs": [
    {
     "name": "stdout",
     "output_type": "stream",
     "text": [
      "Descriptive Statistics for Lower Middle Income Children in Rural areas:\n"
     ]
    },
    {
     "data": {
      "text/plain": [
       "count    27.00\n",
       "mean      0.12\n",
       "std       0.16\n",
       "min       0.00\n",
       "25%       0.02\n",
       "50%       0.05\n",
       "75%       0.17\n",
       "max       0.69\n",
       "Name: Residence (Rural), dtype: float64"
      ]
     },
     "execution_count": 598,
     "metadata": {},
     "output_type": "execute_result"
    }
   ],
   "source": [
    "# Calculate statistics for Rural Children\n",
    "print(\"Descriptive Statistics for Lower Middle Income Children in Rural areas:\")\n",
    "Lower_middle['Residence (Rural)'].describe().round(2)"
   ]
  },
  {
   "cell_type": "code",
   "execution_count": 599,
   "id": "58362feb-eaf4-48de-a60a-59fbd0e5535d",
   "metadata": {},
   "outputs": [
    {
     "data": {
      "text/plain": [
       "0.02447037037037038"
      ]
     },
     "execution_count": 599,
     "metadata": {},
     "output_type": "execute_result"
    }
   ],
   "source": [
    "#Calculate the variance\n",
    "Lower_middle['Residence (Rural)'].var()"
   ]
  },
  {
   "cell_type": "code",
   "execution_count": 600,
   "id": "333fb327-28f0-4596-b2a7-6e26bb897249",
   "metadata": {},
   "outputs": [
    {
     "name": "stderr",
     "output_type": "stream",
     "text": [
      "C:\\Users\\devan\\anaconda3\\Lib\\site-packages\\seaborn\\_oldcore.py:1119: FutureWarning: use_inf_as_na option is deprecated and will be removed in a future version. Convert inf values to NaN before operating instead.\n",
      "  with pd.option_context('mode.use_inf_as_na', True):\n"
     ]
    },
    {
     "data": {
      "text/plain": [
       "Text(0.5, 1.0, 'Histogram of Lower Middle class children in Rural Area with Internet')"
      ]
     },
     "execution_count": 600,
     "metadata": {},
     "output_type": "execute_result"
    },
    {
     "data": {
      "image/png": "[encoded data removed]",
      "text/plain": [
       "<Figure size 640x480 with 1 Axes>"
      ]
     },
     "metadata": {},
     "output_type": "display_data"
    }
   ],
   "source": [
    "#Display a histogram to showcase distribution.\n",
    "sns.histplot(x = Lower_middle['Residence (Rural)'])\n",
    "plt.title('Histogram of Lower Middle class children in Rural Area with Internet')"
   ]
  },
  {
   "cell_type": "code",
   "execution_count": 601,
   "id": "23e9791a-02a4-4839-927a-8c6d7bc2e69e",
   "metadata": {},
   "outputs": [
    {
     "data": {
      "text/plain": [
       "2.157921988884471"
      ]
     },
     "execution_count": 601,
     "metadata": {},
     "output_type": "execute_result"
    }
   ],
   "source": [
    "#Check for the skew value to confirm distribution\n",
    "Lower_middle['Residence (Rural)'].skew()"
   ]
  },
  {
   "cell_type": "code",
   "execution_count": 602,
   "id": "c8e959a4-0a46-4aab-9599-4ea892f204c1",
   "metadata": {},
   "outputs": [
    {
     "name": "stdout",
     "output_type": "stream",
     "text": [
      "Descriptive Statistics for Lower Middle Income Children in Urban areas:\n"
     ]
    },
    {
     "data": {
      "text/plain": [
       "count    27.00\n",
       "mean      0.29\n",
       "std       0.22\n",
       "min       0.03\n",
       "25%       0.11\n",
       "50%       0.25\n",
       "75%       0.49\n",
       "max       0.84\n",
       "Name: Residence (Urban), dtype: float64"
      ]
     },
     "execution_count": 602,
     "metadata": {},
     "output_type": "execute_result"
    }
   ],
   "source": [
    "# Calculate statistics for Urban Children and repeat same process as Rural. \n",
    "print(\"Descriptive Statistics for Lower Middle Income Children in Urban areas:\")\n",
    "Lower_middle['Residence (Urban)'].describe().round(2)"
   ]
  },
  {
   "cell_type": "code",
   "execution_count": 603,
   "id": "dba832f2-3df4-43f9-a491-a18832f00c1f",
   "metadata": {},
   "outputs": [
    {
     "data": {
      "text/plain": [
       "0.048464102564102565"
      ]
     },
     "execution_count": 603,
     "metadata": {},
     "output_type": "execute_result"
    }
   ],
   "source": [
    "#Calculate the variance\n",
    "Lower_middle['Residence (Urban)'].var()"
   ]
  },
  {
   "cell_type": "code",
   "execution_count": 604,
   "id": "e072311b-cf2b-441e-93ee-4508d0f7ecbc",
   "metadata": {},
   "outputs": [
    {
     "name": "stderr",
     "output_type": "stream",
     "text": [
      "C:\\Users\\devan\\anaconda3\\Lib\\site-packages\\seaborn\\_oldcore.py:1119: FutureWarning: use_inf_as_na option is deprecated and will be removed in a future version. Convert inf values to NaN before operating instead.\n",
      "  with pd.option_context('mode.use_inf_as_na', True):\n"
     ]
    },
    {
     "data": {
      "text/plain": [
       "Text(0.5, 1.0, 'Histogram of Lower Middle class children in Urban Area with Internet')"
      ]
     },
     "execution_count": 604,
     "metadata": {},
     "output_type": "execute_result"
    },
    {
     "data": {
      "image/png": "[encoded data removed]",
      "text/plain": [
       "<Figure size 640x480 with 1 Axes>"
      ]
     },
     "metadata": {},
     "output_type": "display_data"
    }
   ],
   "source": [
    "#Display a histogram to showcase distribution.\n",
    "sns.histplot(x = Lower_middle['Residence (Urban)'])\n",
    "plt.title('Histogram of Lower Middle class children in Urban Area with Internet')"
   ]
  },
  {
   "cell_type": "code",
   "execution_count": 605,
   "id": "49c60550-1424-4a1b-a8b2-bf031fd9a408",
   "metadata": {},
   "outputs": [
    {
     "data": {
      "text/plain": [
       "0.8221864984787751"
      ]
     },
     "execution_count": 605,
     "metadata": {},
     "output_type": "execute_result"
    }
   ],
   "source": [
    "#Check for the skew value to confirm distribution\n",
    "Lower_middle['Residence (Urban)'].skew()"
   ]
  }
 ],
 "metadata": {
  "kernelspec": {
   "display_name": "Python 3 (ipykernel)",
   "language": "python",
   "name": "python3"
  },
  "language_info": {
   "codemirror_mode": {
    "name": "ipython",
    "version": 3
   },
   "file_extension": ".py",
   "mimetype": "text/x-python",
   "name": "python",
   "nbconvert_exporter": "python",
   "pygments_lexer": "ipython3",
   "version": "3.11.7"
  }
 },
 "nbformat": 4,
 "nbformat_minor": 5
}
